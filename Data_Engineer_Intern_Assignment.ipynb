{
 "cells": [
  {
   "cell_type": "code",
   "execution_count": 72,
   "id": "24cad9a5",
   "metadata": {},
   "outputs": [],
   "source": [
    "import pandas as pd\n",
    "import matplotlib.pyplot as plt"
   ]
  },
  {
   "cell_type": "code",
   "execution_count": 46,
   "id": "7b5b6fe0",
   "metadata": {},
   "outputs": [],
   "source": [
    "df = pd.read_csv(\"us-counties-2020.csv\")"
   ]
  },
  {
   "cell_type": "code",
   "execution_count": 47,
   "id": "421dcbc3",
   "metadata": {},
   "outputs": [
    {
     "data": {
      "text/html": [
       "<div>\n",
       "<style scoped>\n",
       "    .dataframe tbody tr th:only-of-type {\n",
       "        vertical-align: middle;\n",
       "    }\n",
       "\n",
       "    .dataframe tbody tr th {\n",
       "        vertical-align: top;\n",
       "    }\n",
       "\n",
       "    .dataframe thead th {\n",
       "        text-align: right;\n",
       "    }\n",
       "</style>\n",
       "<table border=\"1\" class=\"dataframe\">\n",
       "  <thead>\n",
       "    <tr style=\"text-align: right;\">\n",
       "      <th></th>\n",
       "      <th>date</th>\n",
       "      <th>county</th>\n",
       "      <th>state</th>\n",
       "      <th>fips</th>\n",
       "      <th>cases</th>\n",
       "      <th>deaths</th>\n",
       "    </tr>\n",
       "  </thead>\n",
       "  <tbody>\n",
       "    <tr>\n",
       "      <th>0</th>\n",
       "      <td>2020-01-21</td>\n",
       "      <td>Snohomish</td>\n",
       "      <td>Washington</td>\n",
       "      <td>53061.0</td>\n",
       "      <td>1</td>\n",
       "      <td>0.0</td>\n",
       "    </tr>\n",
       "    <tr>\n",
       "      <th>1</th>\n",
       "      <td>2020-01-22</td>\n",
       "      <td>Snohomish</td>\n",
       "      <td>Washington</td>\n",
       "      <td>53061.0</td>\n",
       "      <td>1</td>\n",
       "      <td>0.0</td>\n",
       "    </tr>\n",
       "    <tr>\n",
       "      <th>2</th>\n",
       "      <td>2020-01-23</td>\n",
       "      <td>Snohomish</td>\n",
       "      <td>Washington</td>\n",
       "      <td>53061.0</td>\n",
       "      <td>1</td>\n",
       "      <td>0.0</td>\n",
       "    </tr>\n",
       "    <tr>\n",
       "      <th>3</th>\n",
       "      <td>2020-01-24</td>\n",
       "      <td>Cook</td>\n",
       "      <td>Illinois</td>\n",
       "      <td>17031.0</td>\n",
       "      <td>1</td>\n",
       "      <td>0.0</td>\n",
       "    </tr>\n",
       "    <tr>\n",
       "      <th>4</th>\n",
       "      <td>2020-01-24</td>\n",
       "      <td>Snohomish</td>\n",
       "      <td>Washington</td>\n",
       "      <td>53061.0</td>\n",
       "      <td>1</td>\n",
       "      <td>0.0</td>\n",
       "    </tr>\n",
       "  </tbody>\n",
       "</table>\n",
       "</div>"
      ],
      "text/plain": [
       "         date     county       state     fips  cases  deaths\n",
       "0  2020-01-21  Snohomish  Washington  53061.0      1     0.0\n",
       "1  2020-01-22  Snohomish  Washington  53061.0      1     0.0\n",
       "2  2020-01-23  Snohomish  Washington  53061.0      1     0.0\n",
       "3  2020-01-24       Cook    Illinois  17031.0      1     0.0\n",
       "4  2020-01-24  Snohomish  Washington  53061.0      1     0.0"
      ]
     },
     "execution_count": 47,
     "metadata": {},
     "output_type": "execute_result"
    }
   ],
   "source": [
    "df.head()"
   ]
  },
  {
   "cell_type": "code",
   "execution_count": 48,
   "id": "b0f81878",
   "metadata": {},
   "outputs": [
    {
     "data": {
      "text/plain": [
       "0    2020-01-21\n",
       "1    2020-01-22\n",
       "2    2020-01-23\n",
       "3    2020-01-24\n",
       "4    2020-01-24\n",
       "Name: date, dtype: object"
      ]
     },
     "execution_count": 48,
     "metadata": {},
     "output_type": "execute_result"
    }
   ],
   "source": [
    "df['date'].head()"
   ]
  },
  {
   "cell_type": "code",
   "execution_count": 49,
   "id": "fbbe33ac",
   "metadata": {},
   "outputs": [
    {
     "data": {
      "text/html": [
       "<div>\n",
       "<style scoped>\n",
       "    .dataframe tbody tr th:only-of-type {\n",
       "        vertical-align: middle;\n",
       "    }\n",
       "\n",
       "    .dataframe tbody tr th {\n",
       "        vertical-align: top;\n",
       "    }\n",
       "\n",
       "    .dataframe thead th {\n",
       "        text-align: right;\n",
       "    }\n",
       "</style>\n",
       "<table border=\"1\" class=\"dataframe\">\n",
       "  <thead>\n",
       "    <tr style=\"text-align: right;\">\n",
       "      <th></th>\n",
       "      <th>date</th>\n",
       "      <th>county</th>\n",
       "      <th>state</th>\n",
       "      <th>fips</th>\n",
       "      <th>cases</th>\n",
       "      <th>deaths</th>\n",
       "    </tr>\n",
       "  </thead>\n",
       "  <tbody>\n",
       "    <tr>\n",
       "      <th>418</th>\n",
       "      <td>2020-03-01</td>\n",
       "      <td>Unknown</td>\n",
       "      <td>Rhode Island</td>\n",
       "      <td>NaN</td>\n",
       "      <td>2</td>\n",
       "      <td>0.0</td>\n",
       "    </tr>\n",
       "    <tr>\n",
       "      <th>450</th>\n",
       "      <td>2020-03-02</td>\n",
       "      <td>Unknown</td>\n",
       "      <td>Rhode Island</td>\n",
       "      <td>NaN</td>\n",
       "      <td>2</td>\n",
       "      <td>0.0</td>\n",
       "    </tr>\n",
       "    <tr>\n",
       "      <th>485</th>\n",
       "      <td>2020-03-03</td>\n",
       "      <td>Unknown</td>\n",
       "      <td>Rhode Island</td>\n",
       "      <td>NaN</td>\n",
       "      <td>2</td>\n",
       "      <td>0.0</td>\n",
       "    </tr>\n",
       "    <tr>\n",
       "      <th>522</th>\n",
       "      <td>2020-03-04</td>\n",
       "      <td>Unknown</td>\n",
       "      <td>Rhode Island</td>\n",
       "      <td>NaN</td>\n",
       "      <td>2</td>\n",
       "      <td>0.0</td>\n",
       "    </tr>\n",
       "    <tr>\n",
       "      <th>569</th>\n",
       "      <td>2020-03-05</td>\n",
       "      <td>Unknown</td>\n",
       "      <td>Rhode Island</td>\n",
       "      <td>NaN</td>\n",
       "      <td>2</td>\n",
       "      <td>0.0</td>\n",
       "    </tr>\n",
       "    <tr>\n",
       "      <th>...</th>\n",
       "      <td>...</td>\n",
       "      <td>...</td>\n",
       "      <td>...</td>\n",
       "      <td>...</td>\n",
       "      <td>...</td>\n",
       "      <td>...</td>\n",
       "    </tr>\n",
       "    <tr>\n",
       "      <th>883891</th>\n",
       "      <td>2020-12-31</td>\n",
       "      <td>Unknown</td>\n",
       "      <td>Puerto Rico</td>\n",
       "      <td>NaN</td>\n",
       "      <td>3875</td>\n",
       "      <td>1503.0</td>\n",
       "    </tr>\n",
       "    <tr>\n",
       "      <th>883903</th>\n",
       "      <td>2020-12-31</td>\n",
       "      <td>Unknown</td>\n",
       "      <td>Rhode Island</td>\n",
       "      <td>NaN</td>\n",
       "      <td>9622</td>\n",
       "      <td>60.0</td>\n",
       "    </tr>\n",
       "    <tr>\n",
       "      <th>884104</th>\n",
       "      <td>2020-12-31</td>\n",
       "      <td>Unknown</td>\n",
       "      <td>Tennessee</td>\n",
       "      <td>NaN</td>\n",
       "      <td>6903</td>\n",
       "      <td>59.0</td>\n",
       "    </tr>\n",
       "    <tr>\n",
       "      <th>884391</th>\n",
       "      <td>2020-12-31</td>\n",
       "      <td>Unknown</td>\n",
       "      <td>Utah</td>\n",
       "      <td>NaN</td>\n",
       "      <td>430</td>\n",
       "      <td>2.0</td>\n",
       "    </tr>\n",
       "    <tr>\n",
       "      <th>884408</th>\n",
       "      <td>2020-12-31</td>\n",
       "      <td>Unknown</td>\n",
       "      <td>Vermont</td>\n",
       "      <td>NaN</td>\n",
       "      <td>9</td>\n",
       "      <td>0.0</td>\n",
       "    </tr>\n",
       "  </tbody>\n",
       "</table>\n",
       "<p>7483 rows × 6 columns</p>\n",
       "</div>"
      ],
      "text/plain": [
       "              date   county         state  fips  cases  deaths\n",
       "418     2020-03-01  Unknown  Rhode Island   NaN      2     0.0\n",
       "450     2020-03-02  Unknown  Rhode Island   NaN      2     0.0\n",
       "485     2020-03-03  Unknown  Rhode Island   NaN      2     0.0\n",
       "522     2020-03-04  Unknown  Rhode Island   NaN      2     0.0\n",
       "569     2020-03-05  Unknown  Rhode Island   NaN      2     0.0\n",
       "...            ...      ...           ...   ...    ...     ...\n",
       "883891  2020-12-31  Unknown   Puerto Rico   NaN   3875  1503.0\n",
       "883903  2020-12-31  Unknown  Rhode Island   NaN   9622    60.0\n",
       "884104  2020-12-31  Unknown     Tennessee   NaN   6903    59.0\n",
       "884391  2020-12-31  Unknown          Utah   NaN    430     2.0\n",
       "884408  2020-12-31  Unknown       Vermont   NaN      9     0.0\n",
       "\n",
       "[7483 rows x 6 columns]"
      ]
     },
     "execution_count": 49,
     "metadata": {},
     "output_type": "execute_result"
    }
   ],
   "source": [
    "df.loc[lambda df: df['county'] == 'Unknown',: ]"
   ]
  },
  {
   "cell_type": "code",
   "execution_count": 50,
   "id": "3a4fdb9e",
   "metadata": {},
   "outputs": [
    {
     "data": {
      "text/plain": [
       "array(['Washington', 'Illinois', 'California', 'Arizona', 'Massachusetts',\n",
       "       'Wisconsin', 'Texas', 'Nebraska', 'Utah', 'Oregon', 'Florida',\n",
       "       'New York', 'Rhode Island', 'Georgia', 'New Hampshire',\n",
       "       'North Carolina', 'New Jersey', 'Colorado', 'Maryland', 'Nevada',\n",
       "       'Tennessee', 'Hawaii', 'Indiana', 'Kentucky', 'Minnesota',\n",
       "       'Oklahoma', 'Pennsylvania', 'South Carolina',\n",
       "       'District of Columbia', 'Kansas', 'Missouri', 'Vermont',\n",
       "       'Virginia', 'Connecticut', 'Iowa', 'Louisiana', 'Ohio', 'Michigan',\n",
       "       'South Dakota', 'Arkansas', 'Delaware', 'Mississippi',\n",
       "       'New Mexico', 'North Dakota', 'Wyoming', 'Alaska', 'Maine',\n",
       "       'Alabama', 'Idaho', 'Montana', 'Puerto Rico', 'Virgin Islands',\n",
       "       'Guam', 'West Virginia', 'Northern Mariana Islands'], dtype=object)"
      ]
     },
     "execution_count": 50,
     "metadata": {},
     "output_type": "execute_result"
    }
   ],
   "source": [
    "df.state.unique()"
   ]
  },
  {
   "cell_type": "code",
   "execution_count": 51,
   "id": "6d6e3fd2",
   "metadata": {},
   "outputs": [],
   "source": [
    "df['date'] = pd.to_datetime(df['date'])"
   ]
  },
  {
   "cell_type": "code",
   "execution_count": 52,
   "id": "6b18ff6b",
   "metadata": {},
   "outputs": [],
   "source": [
    "grouped_data = df.groupby(  [df[\"date\"].dt.month, \"state\"])[\"deaths\"].sum()"
   ]
  },
  {
   "cell_type": "code",
   "execution_count": 73,
   "id": "c12705ce",
   "metadata": {},
   "outputs": [
    {
     "data": {
      "image/png": "[encoded data removed]",
      "text/plain": [
       "<Figure size 864x288 with 1 Axes>"
      ]
     },
     "metadata": {
      "needs_background": "light"
     },
     "output_type": "display_data"
    }
   ],
   "source": [
    " fig, axs = plt.subplots(figsize=(12, 4))\n",
    "\n",
    " df.groupby(df[\"date\"].dt.month)[\"deaths\"].sum().plot(\n",
    "     kind='bar', rot=0, ax=axs\n",
    " )\n",
    " \n",
    "\n",
    " plt.xlabel(\"Month\");  # custom x label using Matplotlib\n",
    "\n",
    " plt.ylabel(\"No of deaths\");"
   ]
  },
  {
   "cell_type": "code",
   "execution_count": 54,
   "id": "f30427c3",
   "metadata": {},
   "outputs": [],
   "source": [
    "march = grouped_data[3].nlargest(3)\n",
    "april = grouped_data[4].nlargest(3)\n",
    "may = grouped_data[4].nlargest(3)\n",
    "june = grouped_data[4].nlargest(3)"
   ]
  },
  {
   "cell_type": "code",
   "execution_count": 55,
   "id": "c187eb34",
   "metadata": {},
   "outputs": [
    {
     "name": "stdout",
     "output_type": "stream",
     "text": [
      "MARCH\n",
      " state\n",
      "New York      7943.0\n",
      "Washington    2377.0\n",
      "New Jersey    1165.0\n",
      "Name: deaths, dtype: float64 \n",
      "APRIL\n",
      " state\n",
      "New York      425198.0\n",
      "New Jersey    102708.0\n",
      "Michigan       59519.0\n",
      "Name: deaths, dtype: float64 \n",
      "MAY\n",
      " state\n",
      "New York      425198.0\n",
      "New Jersey    102708.0\n",
      "Michigan       59519.0\n",
      "Name: deaths, dtype: float64 \n",
      "JUNE\n",
      " state\n",
      "New York      425198.0\n",
      "New Jersey    102708.0\n",
      "Michigan       59519.0\n",
      "Name: deaths, dtype: float64\n"
     ]
    }
   ],
   "source": [
    "print(\"MARCH\\n\", march,\"\\nAPRIL\\n\", april,\"\\nMAY\\n\", may,\"\\nJUNE\\n\", june)"
   ]
  },
  {
   "cell_type": "code",
   "execution_count": 56,
   "id": "4dd3c988",
   "metadata": {},
   "outputs": [],
   "source": [
    "march_text = \"State #1: New York - \"   + str(march[0])+ \", \" + str(\"{:.2f}\".format((march[0]/march.sum())*100) )+ \" '%' of total U.S deaths\" + \"\\n\" +\"State #2: Washington - \" + str(march[1])+ \", \" + str(\"{:.2f}\".format((march[1]/march.sum())*100)) + \" '%' of total U.S deaths\" + \"\\n\" + \"State #3: New Jersey - \" + str(march[2])+ \", \" + str(\"{:.2f}\".format((march[2]/march.sum())*100) ) + \" '%' of total U.S deaths\""
   ]
  },
  {
   "cell_type": "code",
   "execution_count": 57,
   "id": "c52ad3b3",
   "metadata": {},
   "outputs": [],
   "source": [
    "april_text = \"State #1: New York - \"   + str(april[0])+ \", \" + str(\"{:.2f}\".format((april[0]/(march.sum()+april.sum()))*100) ) + \" '%' of total U.S deaths\" +\"\\n\" +\"State #2: Washington - \" + str(april[1])+ \", \" + str(\"{:.2f}\".format((april[1]/(march.sum()+april.sum()))*100)) + \" '%' of total U.S deaths\" + \"\\n\" + \"State #3: New Jersey - \" + str(april[2])+ \", \" + str(\"{:.2f}\".format((april[2]/(march.sum()+april.sum()))*100) ) + \" '%' of total U.S deaths\""
   ]
  },
  {
   "cell_type": "code",
   "execution_count": 58,
   "id": "d9c590f0",
   "metadata": {},
   "outputs": [],
   "source": [
    "may_text = \"State #1: New York - \"   + str(may[0])+ \", \" + str(\"{:.2f}\".format((may[0]/(march.sum()+april.sum()+may.sum()))*100) )+ \" '%' of total U.S deaths\" + \"\\n\" +\"State #2: Washington - \" + str(may[1])+ \", \" + str(\"{:.2f}\".format((may[1]/(march.sum()+april.sum()+may.sum()))*100)) + \" '%' of total U.S deaths\" + \"\\n\" + \"State #3: New Jersey - \" + str(may[2])+ \", \" + str(\"{:.2f}\".format((may[2]/(march.sum()+april.sum()+may.sum()))*100) ) + \" '%' of total U.S deaths\""
   ]
  },
  {
   "cell_type": "code",
   "execution_count": 59,
   "id": "f83848d8",
   "metadata": {},
   "outputs": [],
   "source": [
    "june_text = \"State #1: New York - \"   + str(june[0])+ \", \" + str(\"{:.2f}\".format((june[0]/(march.sum()+april.sum()+april.sum()+june.sum()))*100) )+\" '%' of total U.S deaths\" + \"\\n\" +\"State #2: New Jersey - \" + str(june[1])+ \", \" + str(\"{:.2f}\".format((june[1]/(march.sum()+april.sum()+april.sum()+june.sum()))*100)) + \" '%' of total U.S deaths\" + \"\\n\" + \"State #3: Michigan - \" + str(june[2])+ \", \" + str(\"{:.2f}\".format((june[2]/(march.sum()+april.sum()+april.sum()+june.sum()))*100) ) + \" '%' of total U.S deaths\""
   ]
  },
  {
   "cell_type": "code",
   "execution_count": 60,
   "id": "5f66be7c",
   "metadata": {},
   "outputs": [],
   "source": [
    "text_list = []\n",
    "text_list.extend([march_text, april_text, may_text, june_text])"
   ]
  },
  {
   "cell_type": "code",
   "execution_count": 74,
   "id": "ce5c5a10",
   "metadata": {},
   "outputs": [],
   "source": [
    "import getpass\n",
    "import calendar\n",
    "import smtplib, ssl"
   ]
  },
  {
   "cell_type": "code",
   "execution_count": 62,
   "id": "37848768",
   "metadata": {},
   "outputs": [
    {
     "name": "stdout",
     "output_type": "stream",
     "text": [
      "Requirement already satisfied: schedule in c:\\users\\chhavi bhadana\\anaconda3\\lib\\site-packages (1.2.0)Note: you may need to restart the kernel to use updated packages.\n",
      "\n"
     ]
    }
   ],
   "source": [
    "pip install schedule"
   ]
  },
  {
   "cell_type": "code",
   "execution_count": 118,
   "id": "764d3554",
   "metadata": {},
   "outputs": [
    {
     "name": "stdout",
     "output_type": "stream",
     "text": [
      "Runnning\n",
      "\n",
      "Runnning\n",
      "\n",
      "Runnning\n",
      "\n",
      "Runnning\n",
      "\n"
     ]
    }
   ],
   "source": [
    "email_count = 0\n",
    "email_index = 0\n",
    "def sendMail():\n",
    "    smtp_server = \"smtp.gmail.com\"\n",
    "    port = 587                                    # For starttls\n",
    "    sender_email = \"chhavibhadana15@gmail.com\"               #sender's mail id\n",
    "    receiver_email  = ['chhavi050btmae19@igdtuw.ac.in']        #list of reciever's mail ids\n",
    "    #password = getpass.getpass(prompt=\"Type your password and press enter: \")\n",
    "    password = \"hvkwqwhofgmlwnfz\"\n",
    "\n",
    "    print('Runnning\\n')\n",
    "    \n",
    "    \n",
    "    \n",
    "    global email_index\n",
    "    global email_count\n",
    "    \n",
    "    \n",
    "    #file1 = open(r'''C:/Users/Chhavi Bhadana/Downloads/data.txt''')\n",
    "    #number = file1.read()\n",
    "    #file1.close()\n",
    "    \n",
    "    #writing email subject and text\n",
    "    m = email_index + 3\n",
    "    \n",
    "    subject=\"Top 3 deaths for the month of \" + calendar.month_name[m]\n",
    "    \n",
    "    text = \"Month - \" + calendar.month_name[m] + \"\\n\" + text_list[email_index]\n",
    "    \n",
    "    message = 'Subject: {}\\n\\n{}'.format(subject, text)\n",
    "    \n",
    "    # Create a secure SSL context\n",
    "    context = ssl.create_default_context()\n",
    "\n",
    "    # Try to log in to server and send email\n",
    "    try:\n",
    "        server = smtplib.SMTP(smtp_server,port)\n",
    "        server.ehlo()                               # Can be omitted\n",
    "        server.starttls(context=context)            # Secure the connection\n",
    "        server.ehlo()                               \n",
    "        server.login(sender_email, password)\n",
    "        server.sendmail(sender_email, receiver_email, message)\n",
    "        \n",
    "        email_index = (email_index + 1) % len(text_list)\n",
    "        email_count += 1\n",
    "        \n",
    "        #file1 = open('''C:/Users/Chhavi Bhadana/Downloads/data.txt''',\"w\")  \n",
    "        #number = file1.write(str(int(number)+1)) \n",
    "        #file1.close() \n",
    "    \n",
    "    except Exception as e:\n",
    "        print(e)\n",
    "        \n",
    "import time\n",
    "from apscheduler.schedulers.background import BackgroundScheduler\n",
    "from apscheduler.triggers.interval import IntervalTrigger\n",
    "\n",
    "scheduler = BackgroundScheduler(timezone='utc')\n",
    "\n",
    "scheduler.add_job(sendMail, IntervalTrigger(minutes=1), max_instances=4)\n",
    "\n",
    "scheduler.start()\n",
    "\n",
    "while email_count < 4:\n",
    "    time.sleep(1)\n",
    "\n",
    "scheduler.shutdown()"
   ]
  },
  {
   "cell_type": "code",
   "execution_count": null,
   "id": "23bf0d5f",
   "metadata": {},
   "outputs": [],
   "source": []
  }
 ],
 "metadata": {
  "kernelspec": {
   "display_name": "Python 3 (ipykernel)",
   "language": "python",
   "name": "python3"
  },
  "language_info": {
   "codemirror_mode": {
    "name": "ipython",
    "version": 3
   },
   "file_extension": ".py",
   "mimetype": "text/x-python",
   "name": "python",
   "nbconvert_exporter": "python",
   "pygments_lexer": "ipython3",
   "version": "3.9.7"
  }
 },
 "nbformat": 4,
 "nbformat_minor": 5
}
